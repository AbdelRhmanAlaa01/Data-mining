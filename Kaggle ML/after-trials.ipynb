{
 "cells": [
  {
   "cell_type": "code",
   "execution_count": 1,
   "id": "packed-algorithm",
   "metadata": {
    "_cell_guid": "b1076dfc-b9ad-4769-8c92-a6c4dae69d19",
    "_uuid": "8f2839f25d086af736a60e9eeb907d3b93b6e0e5",
    "execution": {
     "iopub.execute_input": "2021-06-11T23:49:28.236103Z",
     "iopub.status.busy": "2021-06-11T23:49:28.235449Z",
     "iopub.status.idle": "2021-06-11T23:49:29.491771Z",
     "shell.execute_reply": "2021-06-11T23:49:29.490752Z",
     "shell.execute_reply.started": "2021-06-11T23:47:36.937127Z"
    },
    "papermill": {
     "duration": 1.283173,
     "end_time": "2021-06-11T23:49:29.492061",
     "exception": false,
     "start_time": "2021-06-11T23:49:28.208888",
     "status": "completed"
    },
    "tags": []
   },
   "outputs": [
    {
     "name": "stdout",
     "output_type": "stream",
     "text": [
      "/kaggle/input/titanic/train.csv\n",
      "/kaggle/input/titanic/test.csv\n",
      "/kaggle/input/titanic/gender_submission.csv\n"
     ]
    }
   ],
   "source": [
    "# This Python 3 environment comes with many helpful analytics libraries installed\n",
    "# It is defined by the kaggle/python Docker image: https://github.com/kaggle/docker-python\n",
    "# For example, here's several helpful packages to load\n",
    "\n",
    "import numpy as np # linear algebra\n",
    "import pandas as pd # data processing, CSV file I/O (e.g. pd.read_csv)\n",
    "from sklearn.ensemble import RandomForestClassifier\n",
    "from sklearn.model_selection import train_test_split\n",
    "from sklearn.metrics import mean_absolute_error\n",
    "# Input data files are available in the read-only \"../input/\" directory\n",
    "# For example, running this (by clicking run or pressing Shift+Enter) will list all files under the input directory\n",
    "\n",
    "import os\n",
    "for dirname, _, filenames in os.walk('/kaggle/input'):\n",
    "    for filename in filenames:\n",
    "        print(os.path.join(dirname, filename))\n",
    "\n",
    "# You can write up to 20GB to the current directory (/kaggle/working/) that gets preserved as output when you create a version using \"Save & Run All\" \n",
    "# You can also write temporary files to /kaggle/temp/, but they won't be saved outside of the current session"
   ]
  },
  {
   "cell_type": "code",
   "execution_count": 2,
   "id": "designed-integer",
   "metadata": {
    "execution": {
     "iopub.execute_input": "2021-06-11T23:49:29.527186Z",
     "iopub.status.busy": "2021-06-11T23:49:29.526510Z",
     "iopub.status.idle": "2021-06-11T23:49:29.590899Z",
     "shell.execute_reply": "2021-06-11T23:49:29.590089Z",
     "shell.execute_reply.started": "2021-06-11T23:47:38.338108Z"
    },
    "papermill": {
     "duration": 0.083758,
     "end_time": "2021-06-11T23:49:29.591106",
     "exception": false,
     "start_time": "2021-06-11T23:49:29.507348",
     "status": "completed"
    },
    "tags": []
   },
   "outputs": [
    {
     "data": {
      "text/html": [
       "<div>\n",
       "<style scoped>\n",
       "    .dataframe tbody tr th:only-of-type {\n",
       "        vertical-align: middle;\n",
       "    }\n",
       "\n",
       "    .dataframe tbody tr th {\n",
       "        vertical-align: top;\n",
       "    }\n",
       "\n",
       "    .dataframe thead th {\n",
       "        text-align: right;\n",
       "    }\n",
       "</style>\n",
       "<table border=\"1\" class=\"dataframe\">\n",
       "  <thead>\n",
       "    <tr style=\"text-align: right;\">\n",
       "      <th></th>\n",
       "      <th>PassengerId</th>\n",
       "      <th>Survived</th>\n",
       "      <th>Pclass</th>\n",
       "      <th>Name</th>\n",
       "      <th>Sex</th>\n",
       "      <th>Age</th>\n",
       "      <th>SibSp</th>\n",
       "      <th>Parch</th>\n",
       "      <th>Ticket</th>\n",
       "      <th>Fare</th>\n",
       "      <th>Cabin</th>\n",
       "      <th>Embarked</th>\n",
       "    </tr>\n",
       "  </thead>\n",
       "  <tbody>\n",
       "    <tr>\n",
       "      <th>0</th>\n",
       "      <td>1</td>\n",
       "      <td>0</td>\n",
       "      <td>3</td>\n",
       "      <td>Braund, Mr. Owen Harris</td>\n",
       "      <td>male</td>\n",
       "      <td>22.0</td>\n",
       "      <td>1</td>\n",
       "      <td>0</td>\n",
       "      <td>A/5 21171</td>\n",
       "      <td>7.2500</td>\n",
       "      <td>NaN</td>\n",
       "      <td>S</td>\n",
       "    </tr>\n",
       "    <tr>\n",
       "      <th>1</th>\n",
       "      <td>2</td>\n",
       "      <td>1</td>\n",
       "      <td>1</td>\n",
       "      <td>Cumings, Mrs. John Bradley (Florence Briggs Th...</td>\n",
       "      <td>female</td>\n",
       "      <td>38.0</td>\n",
       "      <td>1</td>\n",
       "      <td>0</td>\n",
       "      <td>PC 17599</td>\n",
       "      <td>71.2833</td>\n",
       "      <td>C85</td>\n",
       "      <td>C</td>\n",
       "    </tr>\n",
       "    <tr>\n",
       "      <th>2</th>\n",
       "      <td>3</td>\n",
       "      <td>1</td>\n",
       "      <td>3</td>\n",
       "      <td>Heikkinen, Miss. Laina</td>\n",
       "      <td>female</td>\n",
       "      <td>26.0</td>\n",
       "      <td>0</td>\n",
       "      <td>0</td>\n",
       "      <td>STON/O2. 3101282</td>\n",
       "      <td>7.9250</td>\n",
       "      <td>NaN</td>\n",
       "      <td>S</td>\n",
       "    </tr>\n",
       "    <tr>\n",
       "      <th>3</th>\n",
       "      <td>4</td>\n",
       "      <td>1</td>\n",
       "      <td>1</td>\n",
       "      <td>Futrelle, Mrs. Jacques Heath (Lily May Peel)</td>\n",
       "      <td>female</td>\n",
       "      <td>35.0</td>\n",
       "      <td>1</td>\n",
       "      <td>0</td>\n",
       "      <td>113803</td>\n",
       "      <td>53.1000</td>\n",
       "      <td>C123</td>\n",
       "      <td>S</td>\n",
       "    </tr>\n",
       "    <tr>\n",
       "      <th>4</th>\n",
       "      <td>5</td>\n",
       "      <td>0</td>\n",
       "      <td>3</td>\n",
       "      <td>Allen, Mr. William Henry</td>\n",
       "      <td>male</td>\n",
       "      <td>35.0</td>\n",
       "      <td>0</td>\n",
       "      <td>0</td>\n",
       "      <td>373450</td>\n",
       "      <td>8.0500</td>\n",
       "      <td>NaN</td>\n",
       "      <td>S</td>\n",
       "    </tr>\n",
       "  </tbody>\n",
       "</table>\n",
       "</div>"
      ],
      "text/plain": [
       "   PassengerId  Survived  Pclass  \\\n",
       "0            1         0       3   \n",
       "1            2         1       1   \n",
       "2            3         1       3   \n",
       "3            4         1       1   \n",
       "4            5         0       3   \n",
       "\n",
       "                                                Name     Sex   Age  SibSp  \\\n",
       "0                            Braund, Mr. Owen Harris    male  22.0      1   \n",
       "1  Cumings, Mrs. John Bradley (Florence Briggs Th...  female  38.0      1   \n",
       "2                             Heikkinen, Miss. Laina  female  26.0      0   \n",
       "3       Futrelle, Mrs. Jacques Heath (Lily May Peel)  female  35.0      1   \n",
       "4                           Allen, Mr. William Henry    male  35.0      0   \n",
       "\n",
       "   Parch            Ticket     Fare Cabin Embarked  \n",
       "0      0         A/5 21171   7.2500   NaN        S  \n",
       "1      0          PC 17599  71.2833   C85        C  \n",
       "2      0  STON/O2. 3101282   7.9250   NaN        S  \n",
       "3      0            113803  53.1000  C123        S  \n",
       "4      0            373450   8.0500   NaN        S  "
      ]
     },
     "execution_count": 2,
     "metadata": {},
     "output_type": "execute_result"
    }
   ],
   "source": [
    "train_data = pd.read_csv(\"/kaggle/input/titanic/train.csv\")\n",
    "test_data = pd.read_csv(\"/kaggle/input/titanic/test.csv\")\n",
    "train_data.head()\n"
   ]
  },
  {
   "cell_type": "code",
   "execution_count": 3,
   "id": "smaller-proposition",
   "metadata": {
    "execution": {
     "iopub.execute_input": "2021-06-11T23:49:29.644151Z",
     "iopub.status.busy": "2021-06-11T23:49:29.643520Z",
     "iopub.status.idle": "2021-06-11T23:49:29.648065Z",
     "shell.execute_reply": "2021-06-11T23:49:29.648463Z",
     "shell.execute_reply.started": "2021-06-11T23:47:38.372945Z"
    },
    "papermill": {
     "duration": 0.039114,
     "end_time": "2021-06-11T23:49:29.648645",
     "exception": false,
     "start_time": "2021-06-11T23:49:29.609531",
     "status": "completed"
    },
    "tags": []
   },
   "outputs": [
    {
     "data": {
      "text/html": [
       "<div>\n",
       "<style scoped>\n",
       "    .dataframe tbody tr th:only-of-type {\n",
       "        vertical-align: middle;\n",
       "    }\n",
       "\n",
       "    .dataframe tbody tr th {\n",
       "        vertical-align: top;\n",
       "    }\n",
       "\n",
       "    .dataframe thead th {\n",
       "        text-align: right;\n",
       "    }\n",
       "</style>\n",
       "<table border=\"1\" class=\"dataframe\">\n",
       "  <thead>\n",
       "    <tr style=\"text-align: right;\">\n",
       "      <th></th>\n",
       "      <th>PassengerId</th>\n",
       "      <th>Pclass</th>\n",
       "      <th>Name</th>\n",
       "      <th>Sex</th>\n",
       "      <th>Age</th>\n",
       "      <th>SibSp</th>\n",
       "      <th>Parch</th>\n",
       "      <th>Ticket</th>\n",
       "      <th>Fare</th>\n",
       "      <th>Cabin</th>\n",
       "      <th>Embarked</th>\n",
       "    </tr>\n",
       "  </thead>\n",
       "  <tbody>\n",
       "    <tr>\n",
       "      <th>0</th>\n",
       "      <td>892</td>\n",
       "      <td>3</td>\n",
       "      <td>Kelly, Mr. James</td>\n",
       "      <td>male</td>\n",
       "      <td>34.5</td>\n",
       "      <td>0</td>\n",
       "      <td>0</td>\n",
       "      <td>330911</td>\n",
       "      <td>7.8292</td>\n",
       "      <td>NaN</td>\n",
       "      <td>Q</td>\n",
       "    </tr>\n",
       "    <tr>\n",
       "      <th>1</th>\n",
       "      <td>893</td>\n",
       "      <td>3</td>\n",
       "      <td>Wilkes, Mrs. James (Ellen Needs)</td>\n",
       "      <td>female</td>\n",
       "      <td>47.0</td>\n",
       "      <td>1</td>\n",
       "      <td>0</td>\n",
       "      <td>363272</td>\n",
       "      <td>7.0000</td>\n",
       "      <td>NaN</td>\n",
       "      <td>S</td>\n",
       "    </tr>\n",
       "    <tr>\n",
       "      <th>2</th>\n",
       "      <td>894</td>\n",
       "      <td>2</td>\n",
       "      <td>Myles, Mr. Thomas Francis</td>\n",
       "      <td>male</td>\n",
       "      <td>62.0</td>\n",
       "      <td>0</td>\n",
       "      <td>0</td>\n",
       "      <td>240276</td>\n",
       "      <td>9.6875</td>\n",
       "      <td>NaN</td>\n",
       "      <td>Q</td>\n",
       "    </tr>\n",
       "    <tr>\n",
       "      <th>3</th>\n",
       "      <td>895</td>\n",
       "      <td>3</td>\n",
       "      <td>Wirz, Mr. Albert</td>\n",
       "      <td>male</td>\n",
       "      <td>27.0</td>\n",
       "      <td>0</td>\n",
       "      <td>0</td>\n",
       "      <td>315154</td>\n",
       "      <td>8.6625</td>\n",
       "      <td>NaN</td>\n",
       "      <td>S</td>\n",
       "    </tr>\n",
       "    <tr>\n",
       "      <th>4</th>\n",
       "      <td>896</td>\n",
       "      <td>3</td>\n",
       "      <td>Hirvonen, Mrs. Alexander (Helga E Lindqvist)</td>\n",
       "      <td>female</td>\n",
       "      <td>22.0</td>\n",
       "      <td>1</td>\n",
       "      <td>1</td>\n",
       "      <td>3101298</td>\n",
       "      <td>12.2875</td>\n",
       "      <td>NaN</td>\n",
       "      <td>S</td>\n",
       "    </tr>\n",
       "  </tbody>\n",
       "</table>\n",
       "</div>"
      ],
      "text/plain": [
       "   PassengerId  Pclass                                          Name     Sex  \\\n",
       "0          892       3                              Kelly, Mr. James    male   \n",
       "1          893       3              Wilkes, Mrs. James (Ellen Needs)  female   \n",
       "2          894       2                     Myles, Mr. Thomas Francis    male   \n",
       "3          895       3                              Wirz, Mr. Albert    male   \n",
       "4          896       3  Hirvonen, Mrs. Alexander (Helga E Lindqvist)  female   \n",
       "\n",
       "    Age  SibSp  Parch   Ticket     Fare Cabin Embarked  \n",
       "0  34.5      0      0   330911   7.8292   NaN        Q  \n",
       "1  47.0      1      0   363272   7.0000   NaN        S  \n",
       "2  62.0      0      0   240276   9.6875   NaN        Q  \n",
       "3  27.0      0      0   315154   8.6625   NaN        S  \n",
       "4  22.0      1      1  3101298  12.2875   NaN        S  "
      ]
     },
     "execution_count": 3,
     "metadata": {},
     "output_type": "execute_result"
    }
   ],
   "source": [
    "test_data.head()"
   ]
  },
  {
   "cell_type": "code",
   "execution_count": 4,
   "id": "interim-thing",
   "metadata": {
    "execution": {
     "iopub.execute_input": "2021-06-11T23:49:29.683398Z",
     "iopub.status.busy": "2021-06-11T23:49:29.682783Z",
     "iopub.status.idle": "2021-06-11T23:49:29.689950Z",
     "shell.execute_reply": "2021-06-11T23:49:29.690430Z",
     "shell.execute_reply.started": "2021-06-11T23:47:40.053293Z"
    },
    "papermill": {
     "duration": 0.026671,
     "end_time": "2021-06-11T23:49:29.690592",
     "exception": false,
     "start_time": "2021-06-11T23:49:29.663921",
     "status": "completed"
    },
    "tags": []
   },
   "outputs": [
    {
     "data": {
      "text/plain": [
       "PassengerId      0\n",
       "Survived         0\n",
       "Pclass           0\n",
       "Name             0\n",
       "Sex              0\n",
       "Age            177\n",
       "SibSp            0\n",
       "Parch            0\n",
       "Ticket           0\n",
       "Fare             0\n",
       "Cabin          687\n",
       "Embarked         2\n",
       "dtype: int64"
      ]
     },
     "execution_count": 4,
     "metadata": {},
     "output_type": "execute_result"
    }
   ],
   "source": [
    "train_data.isnull().sum()"
   ]
  },
  {
   "cell_type": "code",
   "execution_count": 5,
   "id": "assigned-valuable",
   "metadata": {
    "execution": {
     "iopub.execute_input": "2021-06-11T23:49:29.723967Z",
     "iopub.status.busy": "2021-06-11T23:49:29.723425Z",
     "iopub.status.idle": "2021-06-11T23:49:29.730062Z",
     "shell.execute_reply": "2021-06-11T23:49:29.730530Z",
     "shell.execute_reply.started": "2021-06-11T23:47:40.600738Z"
    },
    "papermill": {
     "duration": 0.02476,
     "end_time": "2021-06-11T23:49:29.730688",
     "exception": false,
     "start_time": "2021-06-11T23:49:29.705928",
     "status": "completed"
    },
    "tags": []
   },
   "outputs": [
    {
     "data": {
      "text/plain": [
       "PassengerId      0\n",
       "Pclass           0\n",
       "Name             0\n",
       "Sex              0\n",
       "Age             86\n",
       "SibSp            0\n",
       "Parch            0\n",
       "Ticket           0\n",
       "Fare             1\n",
       "Cabin          327\n",
       "Embarked         0\n",
       "dtype: int64"
      ]
     },
     "execution_count": 5,
     "metadata": {},
     "output_type": "execute_result"
    }
   ],
   "source": [
    "test_data.isnull().sum()"
   ]
  },
  {
   "cell_type": "code",
   "execution_count": 6,
   "id": "reliable-teaching",
   "metadata": {
    "execution": {
     "iopub.execute_input": "2021-06-11T23:49:29.765518Z",
     "iopub.status.busy": "2021-06-11T23:49:29.764876Z",
     "iopub.status.idle": "2021-06-11T23:49:29.774499Z",
     "shell.execute_reply": "2021-06-11T23:49:29.774931Z",
     "shell.execute_reply.started": "2021-06-11T23:47:41.105532Z"
    },
    "papermill": {
     "duration": 0.028696,
     "end_time": "2021-06-11T23:49:29.775132",
     "exception": false,
     "start_time": "2021-06-11T23:49:29.746436",
     "status": "completed"
    },
    "tags": []
   },
   "outputs": [],
   "source": [
    "train_data['Sex'].replace(['male','female'],[1,0],inplace=True)\n",
    "test_data['Sex'].replace(['male','female'],[1,0],inplace=True)"
   ]
  },
  {
   "cell_type": "code",
   "execution_count": 7,
   "id": "composite-flash",
   "metadata": {
    "execution": {
     "iopub.execute_input": "2021-06-11T23:49:29.822660Z",
     "iopub.status.busy": "2021-06-11T23:49:29.822048Z",
     "iopub.status.idle": "2021-06-11T23:49:29.825032Z",
     "shell.execute_reply": "2021-06-11T23:49:29.825458Z",
     "shell.execute_reply.started": "2021-06-11T23:47:41.689721Z"
    },
    "papermill": {
     "duration": 0.034195,
     "end_time": "2021-06-11T23:49:29.825614",
     "exception": false,
     "start_time": "2021-06-11T23:49:29.791419",
     "status": "completed"
    },
    "tags": []
   },
   "outputs": [
    {
     "data": {
      "text/html": [
       "<div>\n",
       "<style scoped>\n",
       "    .dataframe tbody tr th:only-of-type {\n",
       "        vertical-align: middle;\n",
       "    }\n",
       "\n",
       "    .dataframe tbody tr th {\n",
       "        vertical-align: top;\n",
       "    }\n",
       "\n",
       "    .dataframe thead th {\n",
       "        text-align: right;\n",
       "    }\n",
       "</style>\n",
       "<table border=\"1\" class=\"dataframe\">\n",
       "  <thead>\n",
       "    <tr style=\"text-align: right;\">\n",
       "      <th></th>\n",
       "      <th>PassengerId</th>\n",
       "      <th>Survived</th>\n",
       "      <th>Pclass</th>\n",
       "      <th>Name</th>\n",
       "      <th>Sex</th>\n",
       "      <th>Age</th>\n",
       "      <th>SibSp</th>\n",
       "      <th>Parch</th>\n",
       "      <th>Ticket</th>\n",
       "      <th>Fare</th>\n",
       "      <th>Cabin</th>\n",
       "      <th>Embarked</th>\n",
       "    </tr>\n",
       "  </thead>\n",
       "  <tbody>\n",
       "    <tr>\n",
       "      <th>0</th>\n",
       "      <td>1</td>\n",
       "      <td>0</td>\n",
       "      <td>3</td>\n",
       "      <td>Braund, Mr. Owen Harris</td>\n",
       "      <td>1</td>\n",
       "      <td>22.0</td>\n",
       "      <td>1</td>\n",
       "      <td>0</td>\n",
       "      <td>A/5 21171</td>\n",
       "      <td>7.2500</td>\n",
       "      <td>NaN</td>\n",
       "      <td>S</td>\n",
       "    </tr>\n",
       "    <tr>\n",
       "      <th>1</th>\n",
       "      <td>2</td>\n",
       "      <td>1</td>\n",
       "      <td>1</td>\n",
       "      <td>Cumings, Mrs. John Bradley (Florence Briggs Th...</td>\n",
       "      <td>0</td>\n",
       "      <td>38.0</td>\n",
       "      <td>1</td>\n",
       "      <td>0</td>\n",
       "      <td>PC 17599</td>\n",
       "      <td>71.2833</td>\n",
       "      <td>C85</td>\n",
       "      <td>C</td>\n",
       "    </tr>\n",
       "    <tr>\n",
       "      <th>2</th>\n",
       "      <td>3</td>\n",
       "      <td>1</td>\n",
       "      <td>3</td>\n",
       "      <td>Heikkinen, Miss. Laina</td>\n",
       "      <td>0</td>\n",
       "      <td>26.0</td>\n",
       "      <td>0</td>\n",
       "      <td>0</td>\n",
       "      <td>STON/O2. 3101282</td>\n",
       "      <td>7.9250</td>\n",
       "      <td>NaN</td>\n",
       "      <td>S</td>\n",
       "    </tr>\n",
       "    <tr>\n",
       "      <th>3</th>\n",
       "      <td>4</td>\n",
       "      <td>1</td>\n",
       "      <td>1</td>\n",
       "      <td>Futrelle, Mrs. Jacques Heath (Lily May Peel)</td>\n",
       "      <td>0</td>\n",
       "      <td>35.0</td>\n",
       "      <td>1</td>\n",
       "      <td>0</td>\n",
       "      <td>113803</td>\n",
       "      <td>53.1000</td>\n",
       "      <td>C123</td>\n",
       "      <td>S</td>\n",
       "    </tr>\n",
       "    <tr>\n",
       "      <th>4</th>\n",
       "      <td>5</td>\n",
       "      <td>0</td>\n",
       "      <td>3</td>\n",
       "      <td>Allen, Mr. William Henry</td>\n",
       "      <td>1</td>\n",
       "      <td>35.0</td>\n",
       "      <td>0</td>\n",
       "      <td>0</td>\n",
       "      <td>373450</td>\n",
       "      <td>8.0500</td>\n",
       "      <td>NaN</td>\n",
       "      <td>S</td>\n",
       "    </tr>\n",
       "    <tr>\n",
       "      <th>5</th>\n",
       "      <td>6</td>\n",
       "      <td>0</td>\n",
       "      <td>3</td>\n",
       "      <td>Moran, Mr. James</td>\n",
       "      <td>1</td>\n",
       "      <td>NaN</td>\n",
       "      <td>0</td>\n",
       "      <td>0</td>\n",
       "      <td>330877</td>\n",
       "      <td>8.4583</td>\n",
       "      <td>NaN</td>\n",
       "      <td>Q</td>\n",
       "    </tr>\n",
       "    <tr>\n",
       "      <th>6</th>\n",
       "      <td>7</td>\n",
       "      <td>0</td>\n",
       "      <td>1</td>\n",
       "      <td>McCarthy, Mr. Timothy J</td>\n",
       "      <td>1</td>\n",
       "      <td>54.0</td>\n",
       "      <td>0</td>\n",
       "      <td>0</td>\n",
       "      <td>17463</td>\n",
       "      <td>51.8625</td>\n",
       "      <td>E46</td>\n",
       "      <td>S</td>\n",
       "    </tr>\n",
       "    <tr>\n",
       "      <th>7</th>\n",
       "      <td>8</td>\n",
       "      <td>0</td>\n",
       "      <td>3</td>\n",
       "      <td>Palsson, Master. Gosta Leonard</td>\n",
       "      <td>1</td>\n",
       "      <td>2.0</td>\n",
       "      <td>3</td>\n",
       "      <td>1</td>\n",
       "      <td>349909</td>\n",
       "      <td>21.0750</td>\n",
       "      <td>NaN</td>\n",
       "      <td>S</td>\n",
       "    </tr>\n",
       "    <tr>\n",
       "      <th>8</th>\n",
       "      <td>9</td>\n",
       "      <td>1</td>\n",
       "      <td>3</td>\n",
       "      <td>Johnson, Mrs. Oscar W (Elisabeth Vilhelmina Berg)</td>\n",
       "      <td>0</td>\n",
       "      <td>27.0</td>\n",
       "      <td>0</td>\n",
       "      <td>2</td>\n",
       "      <td>347742</td>\n",
       "      <td>11.1333</td>\n",
       "      <td>NaN</td>\n",
       "      <td>S</td>\n",
       "    </tr>\n",
       "    <tr>\n",
       "      <th>9</th>\n",
       "      <td>10</td>\n",
       "      <td>1</td>\n",
       "      <td>2</td>\n",
       "      <td>Nasser, Mrs. Nicholas (Adele Achem)</td>\n",
       "      <td>0</td>\n",
       "      <td>14.0</td>\n",
       "      <td>1</td>\n",
       "      <td>0</td>\n",
       "      <td>237736</td>\n",
       "      <td>30.0708</td>\n",
       "      <td>NaN</td>\n",
       "      <td>C</td>\n",
       "    </tr>\n",
       "  </tbody>\n",
       "</table>\n",
       "</div>"
      ],
      "text/plain": [
       "   PassengerId  Survived  Pclass  \\\n",
       "0            1         0       3   \n",
       "1            2         1       1   \n",
       "2            3         1       3   \n",
       "3            4         1       1   \n",
       "4            5         0       3   \n",
       "5            6         0       3   \n",
       "6            7         0       1   \n",
       "7            8         0       3   \n",
       "8            9         1       3   \n",
       "9           10         1       2   \n",
       "\n",
       "                                                Name  Sex   Age  SibSp  Parch  \\\n",
       "0                            Braund, Mr. Owen Harris    1  22.0      1      0   \n",
       "1  Cumings, Mrs. John Bradley (Florence Briggs Th...    0  38.0      1      0   \n",
       "2                             Heikkinen, Miss. Laina    0  26.0      0      0   \n",
       "3       Futrelle, Mrs. Jacques Heath (Lily May Peel)    0  35.0      1      0   \n",
       "4                           Allen, Mr. William Henry    1  35.0      0      0   \n",
       "5                                   Moran, Mr. James    1   NaN      0      0   \n",
       "6                            McCarthy, Mr. Timothy J    1  54.0      0      0   \n",
       "7                     Palsson, Master. Gosta Leonard    1   2.0      3      1   \n",
       "8  Johnson, Mrs. Oscar W (Elisabeth Vilhelmina Berg)    0  27.0      0      2   \n",
       "9                Nasser, Mrs. Nicholas (Adele Achem)    0  14.0      1      0   \n",
       "\n",
       "             Ticket     Fare Cabin Embarked  \n",
       "0         A/5 21171   7.2500   NaN        S  \n",
       "1          PC 17599  71.2833   C85        C  \n",
       "2  STON/O2. 3101282   7.9250   NaN        S  \n",
       "3            113803  53.1000  C123        S  \n",
       "4            373450   8.0500   NaN        S  \n",
       "5            330877   8.4583   NaN        Q  \n",
       "6             17463  51.8625   E46        S  \n",
       "7            349909  21.0750   NaN        S  \n",
       "8            347742  11.1333   NaN        S  \n",
       "9            237736  30.0708   NaN        C  "
      ]
     },
     "execution_count": 7,
     "metadata": {},
     "output_type": "execute_result"
    }
   ],
   "source": [
    "train_data.head(10)"
   ]
  },
  {
   "cell_type": "code",
   "execution_count": 8,
   "id": "interim-history",
   "metadata": {
    "execution": {
     "iopub.execute_input": "2021-06-11T23:49:29.861231Z",
     "iopub.status.busy": "2021-06-11T23:49:29.860632Z",
     "iopub.status.idle": "2021-06-11T23:49:29.874830Z",
     "shell.execute_reply": "2021-06-11T23:49:29.875311Z",
     "shell.execute_reply.started": "2021-06-11T23:47:42.011293Z"
    },
    "papermill": {
     "duration": 0.033763,
     "end_time": "2021-06-11T23:49:29.875498",
     "exception": false,
     "start_time": "2021-06-11T23:49:29.841735",
     "status": "completed"
    },
    "tags": []
   },
   "outputs": [
    {
     "data": {
      "text/html": [
       "<div>\n",
       "<style scoped>\n",
       "    .dataframe tbody tr th:only-of-type {\n",
       "        vertical-align: middle;\n",
       "    }\n",
       "\n",
       "    .dataframe tbody tr th {\n",
       "        vertical-align: top;\n",
       "    }\n",
       "\n",
       "    .dataframe thead th {\n",
       "        text-align: right;\n",
       "    }\n",
       "</style>\n",
       "<table border=\"1\" class=\"dataframe\">\n",
       "  <thead>\n",
       "    <tr style=\"text-align: right;\">\n",
       "      <th></th>\n",
       "      <th>PassengerId</th>\n",
       "      <th>Pclass</th>\n",
       "      <th>Name</th>\n",
       "      <th>Sex</th>\n",
       "      <th>Age</th>\n",
       "      <th>SibSp</th>\n",
       "      <th>Parch</th>\n",
       "      <th>Ticket</th>\n",
       "      <th>Fare</th>\n",
       "      <th>Cabin</th>\n",
       "      <th>Embarked</th>\n",
       "    </tr>\n",
       "  </thead>\n",
       "  <tbody>\n",
       "    <tr>\n",
       "      <th>0</th>\n",
       "      <td>892</td>\n",
       "      <td>3</td>\n",
       "      <td>Kelly, Mr. James</td>\n",
       "      <td>1</td>\n",
       "      <td>34.5</td>\n",
       "      <td>0</td>\n",
       "      <td>0</td>\n",
       "      <td>330911</td>\n",
       "      <td>7.8292</td>\n",
       "      <td>NaN</td>\n",
       "      <td>Q</td>\n",
       "    </tr>\n",
       "    <tr>\n",
       "      <th>1</th>\n",
       "      <td>893</td>\n",
       "      <td>3</td>\n",
       "      <td>Wilkes, Mrs. James (Ellen Needs)</td>\n",
       "      <td>0</td>\n",
       "      <td>47.0</td>\n",
       "      <td>1</td>\n",
       "      <td>0</td>\n",
       "      <td>363272</td>\n",
       "      <td>7.0000</td>\n",
       "      <td>NaN</td>\n",
       "      <td>S</td>\n",
       "    </tr>\n",
       "    <tr>\n",
       "      <th>2</th>\n",
       "      <td>894</td>\n",
       "      <td>2</td>\n",
       "      <td>Myles, Mr. Thomas Francis</td>\n",
       "      <td>1</td>\n",
       "      <td>62.0</td>\n",
       "      <td>0</td>\n",
       "      <td>0</td>\n",
       "      <td>240276</td>\n",
       "      <td>9.6875</td>\n",
       "      <td>NaN</td>\n",
       "      <td>Q</td>\n",
       "    </tr>\n",
       "    <tr>\n",
       "      <th>3</th>\n",
       "      <td>895</td>\n",
       "      <td>3</td>\n",
       "      <td>Wirz, Mr. Albert</td>\n",
       "      <td>1</td>\n",
       "      <td>27.0</td>\n",
       "      <td>0</td>\n",
       "      <td>0</td>\n",
       "      <td>315154</td>\n",
       "      <td>8.6625</td>\n",
       "      <td>NaN</td>\n",
       "      <td>S</td>\n",
       "    </tr>\n",
       "    <tr>\n",
       "      <th>4</th>\n",
       "      <td>896</td>\n",
       "      <td>3</td>\n",
       "      <td>Hirvonen, Mrs. Alexander (Helga E Lindqvist)</td>\n",
       "      <td>0</td>\n",
       "      <td>22.0</td>\n",
       "      <td>1</td>\n",
       "      <td>1</td>\n",
       "      <td>3101298</td>\n",
       "      <td>12.2875</td>\n",
       "      <td>NaN</td>\n",
       "      <td>S</td>\n",
       "    </tr>\n",
       "    <tr>\n",
       "      <th>5</th>\n",
       "      <td>897</td>\n",
       "      <td>3</td>\n",
       "      <td>Svensson, Mr. Johan Cervin</td>\n",
       "      <td>1</td>\n",
       "      <td>14.0</td>\n",
       "      <td>0</td>\n",
       "      <td>0</td>\n",
       "      <td>7538</td>\n",
       "      <td>9.2250</td>\n",
       "      <td>NaN</td>\n",
       "      <td>S</td>\n",
       "    </tr>\n",
       "    <tr>\n",
       "      <th>6</th>\n",
       "      <td>898</td>\n",
       "      <td>3</td>\n",
       "      <td>Connolly, Miss. Kate</td>\n",
       "      <td>0</td>\n",
       "      <td>30.0</td>\n",
       "      <td>0</td>\n",
       "      <td>0</td>\n",
       "      <td>330972</td>\n",
       "      <td>7.6292</td>\n",
       "      <td>NaN</td>\n",
       "      <td>Q</td>\n",
       "    </tr>\n",
       "    <tr>\n",
       "      <th>7</th>\n",
       "      <td>899</td>\n",
       "      <td>2</td>\n",
       "      <td>Caldwell, Mr. Albert Francis</td>\n",
       "      <td>1</td>\n",
       "      <td>26.0</td>\n",
       "      <td>1</td>\n",
       "      <td>1</td>\n",
       "      <td>248738</td>\n",
       "      <td>29.0000</td>\n",
       "      <td>NaN</td>\n",
       "      <td>S</td>\n",
       "    </tr>\n",
       "    <tr>\n",
       "      <th>8</th>\n",
       "      <td>900</td>\n",
       "      <td>3</td>\n",
       "      <td>Abrahim, Mrs. Joseph (Sophie Halaut Easu)</td>\n",
       "      <td>0</td>\n",
       "      <td>18.0</td>\n",
       "      <td>0</td>\n",
       "      <td>0</td>\n",
       "      <td>2657</td>\n",
       "      <td>7.2292</td>\n",
       "      <td>NaN</td>\n",
       "      <td>C</td>\n",
       "    </tr>\n",
       "    <tr>\n",
       "      <th>9</th>\n",
       "      <td>901</td>\n",
       "      <td>3</td>\n",
       "      <td>Davies, Mr. John Samuel</td>\n",
       "      <td>1</td>\n",
       "      <td>21.0</td>\n",
       "      <td>2</td>\n",
       "      <td>0</td>\n",
       "      <td>A/4 48871</td>\n",
       "      <td>24.1500</td>\n",
       "      <td>NaN</td>\n",
       "      <td>S</td>\n",
       "    </tr>\n",
       "  </tbody>\n",
       "</table>\n",
       "</div>"
      ],
      "text/plain": [
       "   PassengerId  Pclass                                          Name  Sex  \\\n",
       "0          892       3                              Kelly, Mr. James    1   \n",
       "1          893       3              Wilkes, Mrs. James (Ellen Needs)    0   \n",
       "2          894       2                     Myles, Mr. Thomas Francis    1   \n",
       "3          895       3                              Wirz, Mr. Albert    1   \n",
       "4          896       3  Hirvonen, Mrs. Alexander (Helga E Lindqvist)    0   \n",
       "5          897       3                    Svensson, Mr. Johan Cervin    1   \n",
       "6          898       3                          Connolly, Miss. Kate    0   \n",
       "7          899       2                  Caldwell, Mr. Albert Francis    1   \n",
       "8          900       3     Abrahim, Mrs. Joseph (Sophie Halaut Easu)    0   \n",
       "9          901       3                       Davies, Mr. John Samuel    1   \n",
       "\n",
       "    Age  SibSp  Parch     Ticket     Fare Cabin Embarked  \n",
       "0  34.5      0      0     330911   7.8292   NaN        Q  \n",
       "1  47.0      1      0     363272   7.0000   NaN        S  \n",
       "2  62.0      0      0     240276   9.6875   NaN        Q  \n",
       "3  27.0      0      0     315154   8.6625   NaN        S  \n",
       "4  22.0      1      1    3101298  12.2875   NaN        S  \n",
       "5  14.0      0      0       7538   9.2250   NaN        S  \n",
       "6  30.0      0      0     330972   7.6292   NaN        Q  \n",
       "7  26.0      1      1     248738  29.0000   NaN        S  \n",
       "8  18.0      0      0       2657   7.2292   NaN        C  \n",
       "9  21.0      2      0  A/4 48871  24.1500   NaN        S  "
      ]
     },
     "execution_count": 8,
     "metadata": {},
     "output_type": "execute_result"
    }
   ],
   "source": [
    "test_data.head(10)"
   ]
  },
  {
   "cell_type": "code",
   "execution_count": 9,
   "id": "accepted-publication",
   "metadata": {
    "execution": {
     "iopub.execute_input": "2021-06-11T23:49:29.913743Z",
     "iopub.status.busy": "2021-06-11T23:49:29.913181Z",
     "iopub.status.idle": "2021-06-11T23:49:29.919349Z",
     "shell.execute_reply": "2021-06-11T23:49:29.919819Z",
     "shell.execute_reply.started": "2021-06-11T23:47:42.847470Z"
    },
    "papermill": {
     "duration": 0.026705,
     "end_time": "2021-06-11T23:49:29.920008",
     "exception": false,
     "start_time": "2021-06-11T23:49:29.893303",
     "status": "completed"
    },
    "tags": []
   },
   "outputs": [],
   "source": [
    "train_data['Age'] = train_data['Age'].replace(np.nan, train_data['Age'].mean())\n",
    "test_data['Age'] = test_data['Age'].replace(np.nan, test_data['Age'].mean())"
   ]
  },
  {
   "cell_type": "code",
   "execution_count": 10,
   "id": "productive-equity",
   "metadata": {
    "execution": {
     "iopub.execute_input": "2021-06-11T23:49:29.957095Z",
     "iopub.status.busy": "2021-06-11T23:49:29.956525Z",
     "iopub.status.idle": "2021-06-11T23:49:29.963970Z",
     "shell.execute_reply": "2021-06-11T23:49:29.963378Z",
     "shell.execute_reply.started": "2021-06-11T23:47:43.763737Z"
    },
    "papermill": {
     "duration": 0.027426,
     "end_time": "2021-06-11T23:49:29.964123",
     "exception": false,
     "start_time": "2021-06-11T23:49:29.936697",
     "status": "completed"
    },
    "tags": []
   },
   "outputs": [
    {
     "data": {
      "text/plain": [
       "PassengerId      0\n",
       "Survived         0\n",
       "Pclass           0\n",
       "Name             0\n",
       "Sex              0\n",
       "Age              0\n",
       "SibSp            0\n",
       "Parch            0\n",
       "Ticket           0\n",
       "Fare             0\n",
       "Cabin          687\n",
       "Embarked         2\n",
       "dtype: int64"
      ]
     },
     "execution_count": 10,
     "metadata": {},
     "output_type": "execute_result"
    }
   ],
   "source": [
    "train_data.isnull().sum()"
   ]
  },
  {
   "cell_type": "code",
   "execution_count": 11,
   "id": "electric-occurrence",
   "metadata": {
    "execution": {
     "iopub.execute_input": "2021-06-11T23:49:30.001676Z",
     "iopub.status.busy": "2021-06-11T23:49:30.001116Z",
     "iopub.status.idle": "2021-06-11T23:49:30.009643Z",
     "shell.execute_reply": "2021-06-11T23:49:30.010147Z",
     "shell.execute_reply.started": "2021-06-11T23:47:44.175539Z"
    },
    "papermill": {
     "duration": 0.028986,
     "end_time": "2021-06-11T23:49:30.010336",
     "exception": false,
     "start_time": "2021-06-11T23:49:29.981350",
     "status": "completed"
    },
    "tags": []
   },
   "outputs": [
    {
     "data": {
      "text/plain": [
       "PassengerId      0\n",
       "Pclass           0\n",
       "Name             0\n",
       "Sex              0\n",
       "Age              0\n",
       "SibSp            0\n",
       "Parch            0\n",
       "Ticket           0\n",
       "Fare             1\n",
       "Cabin          327\n",
       "Embarked         0\n",
       "dtype: int64"
      ]
     },
     "execution_count": 11,
     "metadata": {},
     "output_type": "execute_result"
    }
   ],
   "source": [
    "test_data.isnull().sum()"
   ]
  },
  {
   "cell_type": "code",
   "execution_count": 12,
   "id": "sixth-haiti",
   "metadata": {
    "execution": {
     "iopub.execute_input": "2021-06-11T23:49:30.052480Z",
     "iopub.status.busy": "2021-06-11T23:49:30.051913Z",
     "iopub.status.idle": "2021-06-11T23:49:30.075837Z",
     "shell.execute_reply": "2021-06-11T23:49:30.075279Z",
     "shell.execute_reply.started": "2021-06-11T23:47:44.852570Z"
    },
    "papermill": {
     "duration": 0.047803,
     "end_time": "2021-06-11T23:49:30.075977",
     "exception": false,
     "start_time": "2021-06-11T23:49:30.028174",
     "status": "completed"
    },
    "tags": []
   },
   "outputs": [],
   "source": [
    "limit = len(train_data) * 0.7\n",
    "train_data=train_data.dropna(axis=1, thresh=limit)\n",
    "limit = len(test_data) * 0.7\n",
    "test_data=test_data.dropna(axis=1, thresh=limit)"
   ]
  },
  {
   "cell_type": "code",
   "execution_count": 13,
   "id": "seventh-justice",
   "metadata": {
    "execution": {
     "iopub.execute_input": "2021-06-11T23:49:30.114033Z",
     "iopub.status.busy": "2021-06-11T23:49:30.113434Z",
     "iopub.status.idle": "2021-06-11T23:49:30.120166Z",
     "shell.execute_reply": "2021-06-11T23:49:30.120591Z",
     "shell.execute_reply.started": "2021-06-11T23:47:46.159941Z"
    },
    "papermill": {
     "duration": 0.027154,
     "end_time": "2021-06-11T23:49:30.120752",
     "exception": false,
     "start_time": "2021-06-11T23:49:30.093598",
     "status": "completed"
    },
    "tags": []
   },
   "outputs": [
    {
     "data": {
      "text/plain": [
       "PassengerId    0\n",
       "Survived       0\n",
       "Pclass         0\n",
       "Name           0\n",
       "Sex            0\n",
       "Age            0\n",
       "SibSp          0\n",
       "Parch          0\n",
       "Ticket         0\n",
       "Fare           0\n",
       "Embarked       2\n",
       "dtype: int64"
      ]
     },
     "execution_count": 13,
     "metadata": {},
     "output_type": "execute_result"
    }
   ],
   "source": [
    "train_data.isnull().sum()"
   ]
  },
  {
   "cell_type": "code",
   "execution_count": 14,
   "id": "prepared-impact",
   "metadata": {
    "execution": {
     "iopub.execute_input": "2021-06-11T23:49:30.159386Z",
     "iopub.status.busy": "2021-06-11T23:49:30.158844Z",
     "iopub.status.idle": "2021-06-11T23:49:30.165616Z",
     "shell.execute_reply": "2021-06-11T23:49:30.166008Z",
     "shell.execute_reply.started": "2021-06-11T23:47:47.316041Z"
    },
    "papermill": {
     "duration": 0.027948,
     "end_time": "2021-06-11T23:49:30.166192",
     "exception": false,
     "start_time": "2021-06-11T23:49:30.138244",
     "status": "completed"
    },
    "tags": []
   },
   "outputs": [
    {
     "data": {
      "text/plain": [
       "PassengerId    0\n",
       "Pclass         0\n",
       "Name           0\n",
       "Sex            0\n",
       "Age            0\n",
       "SibSp          0\n",
       "Parch          0\n",
       "Ticket         0\n",
       "Fare           1\n",
       "Embarked       0\n",
       "dtype: int64"
      ]
     },
     "execution_count": 14,
     "metadata": {},
     "output_type": "execute_result"
    }
   ],
   "source": [
    "test_data.isnull().sum()"
   ]
  },
  {
   "cell_type": "code",
   "execution_count": 15,
   "id": "overhead-flight",
   "metadata": {
    "execution": {
     "iopub.execute_input": "2021-06-11T23:49:30.204969Z",
     "iopub.status.busy": "2021-06-11T23:49:30.204417Z",
     "iopub.status.idle": "2021-06-11T23:49:30.212258Z",
     "shell.execute_reply": "2021-06-11T23:49:30.212709Z",
     "shell.execute_reply.started": "2021-06-11T23:47:49.639945Z"
    },
    "papermill": {
     "duration": 0.028672,
     "end_time": "2021-06-11T23:49:30.212882",
     "exception": false,
     "start_time": "2021-06-11T23:49:30.184210",
     "status": "completed"
    },
    "tags": []
   },
   "outputs": [],
   "source": [
    "test_data['Fare'] = test_data['Fare'].replace(np.nan, train_data['Fare'].median())"
   ]
  },
  {
   "cell_type": "code",
   "execution_count": 16,
   "id": "applied-adams",
   "metadata": {
    "execution": {
     "iopub.execute_input": "2021-06-11T23:49:30.251387Z",
     "iopub.status.busy": "2021-06-11T23:49:30.250782Z",
     "iopub.status.idle": "2021-06-11T23:49:30.258490Z",
     "shell.execute_reply": "2021-06-11T23:49:30.258938Z",
     "shell.execute_reply.started": "2021-06-11T23:47:50.846059Z"
    },
    "papermill": {
     "duration": 0.02866,
     "end_time": "2021-06-11T23:49:30.259130",
     "exception": false,
     "start_time": "2021-06-11T23:49:30.230470",
     "status": "completed"
    },
    "tags": []
   },
   "outputs": [],
   "source": [
    "train_data = train_data.dropna()"
   ]
  },
  {
   "cell_type": "code",
   "execution_count": 17,
   "id": "spread-interpretation",
   "metadata": {
    "execution": {
     "iopub.execute_input": "2021-06-11T23:49:30.298102Z",
     "iopub.status.busy": "2021-06-11T23:49:30.297517Z",
     "iopub.status.idle": "2021-06-11T23:49:30.309886Z",
     "shell.execute_reply": "2021-06-11T23:49:30.309083Z",
     "shell.execute_reply.started": "2021-06-11T23:47:51.905183Z"
    },
    "papermill": {
     "duration": 0.033147,
     "end_time": "2021-06-11T23:49:30.310081",
     "exception": false,
     "start_time": "2021-06-11T23:49:30.276934",
     "status": "completed"
    },
    "tags": []
   },
   "outputs": [
    {
     "name": "stdout",
     "output_type": "stream",
     "text": [
      "             PassengerId  Survived    Pclass       Sex       Age     SibSp  \\\n",
      "PassengerId     1.000000 -0.005028 -0.035330  0.043136  0.030300 -0.057686   \n",
      "Survived       -0.005028  1.000000 -0.335549 -0.541585 -0.074673 -0.034040   \n",
      "Pclass         -0.035330 -0.335549  1.000000  0.127741 -0.327954  0.081656   \n",
      "Sex             0.043136 -0.541585  0.127741  1.000000  0.089434 -0.116348   \n",
      "Age             0.030300 -0.074673 -0.327954  0.089434  1.000000 -0.231875   \n",
      "SibSp          -0.057686 -0.034040  0.081656 -0.116348 -0.231875  1.000000   \n",
      "Parch          -0.001657  0.083151  0.016824 -0.247508 -0.178232  0.414542   \n",
      "Fare            0.012703  0.255290 -0.548193 -0.179958  0.088604  0.160887   \n",
      "\n",
      "                Parch      Fare  \n",
      "PassengerId -0.001657  0.012703  \n",
      "Survived     0.083151  0.255290  \n",
      "Pclass       0.016824 -0.548193  \n",
      "Sex         -0.247508 -0.179958  \n",
      "Age         -0.178232  0.088604  \n",
      "SibSp        0.414542  0.160887  \n",
      "Parch        1.000000  0.217532  \n",
      "Fare         0.217532  1.000000  \n"
     ]
    }
   ],
   "source": [
    "correlation = train_data.corr()\n",
    "print(correlation)"
   ]
  },
  {
   "cell_type": "code",
   "execution_count": 18,
   "id": "starting-plaza",
   "metadata": {
    "execution": {
     "iopub.execute_input": "2021-06-11T23:49:30.353452Z",
     "iopub.status.busy": "2021-06-11T23:49:30.352826Z",
     "iopub.status.idle": "2021-06-11T23:49:30.355644Z",
     "shell.execute_reply": "2021-06-11T23:49:30.355110Z",
     "shell.execute_reply.started": "2021-06-11T23:47:53.365366Z"
    },
    "papermill": {
     "duration": 0.026366,
     "end_time": "2021-06-11T23:49:30.355780",
     "exception": false,
     "start_time": "2021-06-11T23:49:30.329414",
     "status": "completed"
    },
    "tags": []
   },
   "outputs": [],
   "source": [
    "goal=train_data.Survived\n",
    "features=['Sex','Pclass','Fare','Age']\n",
    "features_data=train_data[features]"
   ]
  },
  {
   "cell_type": "code",
   "execution_count": 19,
   "id": "increasing-upper",
   "metadata": {
    "execution": {
     "iopub.execute_input": "2021-06-11T23:49:30.394600Z",
     "iopub.status.busy": "2021-06-11T23:49:30.394005Z",
     "iopub.status.idle": "2021-06-11T23:49:30.564064Z",
     "shell.execute_reply": "2021-06-11T23:49:30.563490Z",
     "shell.execute_reply.started": "2021-06-11T23:49:06.361305Z"
    },
    "papermill": {
     "duration": 0.190566,
     "end_time": "2021-06-11T23:49:30.564208",
     "exception": false,
     "start_time": "2021-06-11T23:49:30.373642",
     "status": "completed"
    },
    "tags": []
   },
   "outputs": [
    {
     "name": "stdout",
     "output_type": "stream",
     "text": [
      "0.21076233183856502\n",
      "nice model!\n"
     ]
    }
   ],
   "source": [
    "train_X, val_X, train_y, val_y = train_test_split(features_data, goal, random_state = 0)\n",
    "val_model = RandomForestClassifier(n_estimators=100, max_depth=5, random_state=1)\n",
    "val_model.fit(train_X,train_y)\n",
    "val_model_results = val_model.predict(val_X)\n",
    "print(mean_absolute_error(val_y, val_model_results))\n",
    "if (mean_absolute_error(val_y, val_model_results)<1):\n",
    "    print(\"nice model!\")"
   ]
  },
  {
   "cell_type": "code",
   "execution_count": 20,
   "id": "rural-version",
   "metadata": {
    "execution": {
     "iopub.execute_input": "2021-06-11T23:49:30.607352Z",
     "iopub.status.busy": "2021-06-11T23:49:30.606776Z",
     "iopub.status.idle": "2021-06-11T23:49:30.759850Z",
     "shell.execute_reply": "2021-06-11T23:49:30.759367Z",
     "shell.execute_reply.started": "2021-06-11T23:49:07.748282Z"
    },
    "papermill": {
     "duration": 0.177365,
     "end_time": "2021-06-11T23:49:30.759979",
     "exception": false,
     "start_time": "2021-06-11T23:49:30.582614",
     "status": "completed"
    },
    "tags": []
   },
   "outputs": [
    {
     "data": {
      "text/plain": [
       "RandomForestClassifier(max_depth=5, random_state=1)"
      ]
     },
     "execution_count": 20,
     "metadata": {},
     "output_type": "execute_result"
    }
   ],
   "source": [
    "model = RandomForestClassifier(n_estimators=100, max_depth=5, random_state=1)\n",
    "model.fit(features_data,goal)"
   ]
  },
  {
   "cell_type": "code",
   "execution_count": 21,
   "id": "purple-vaccine",
   "metadata": {
    "execution": {
     "iopub.execute_input": "2021-06-11T23:49:30.802966Z",
     "iopub.status.busy": "2021-06-11T23:49:30.802387Z",
     "iopub.status.idle": "2021-06-11T23:49:30.804924Z",
     "shell.execute_reply": "2021-06-11T23:49:30.805386Z",
     "shell.execute_reply.started": "2021-06-11T23:49:08.056064Z"
    },
    "papermill": {
     "duration": 0.027204,
     "end_time": "2021-06-11T23:49:30.805559",
     "exception": false,
     "start_time": "2021-06-11T23:49:30.778355",
     "status": "completed"
    },
    "tags": []
   },
   "outputs": [],
   "source": [
    "X_test = (test_data[features])"
   ]
  },
  {
   "cell_type": "code",
   "execution_count": 22,
   "id": "patient-privilege",
   "metadata": {
    "execution": {
     "iopub.execute_input": "2021-06-11T23:49:30.849598Z",
     "iopub.status.busy": "2021-06-11T23:49:30.848981Z",
     "iopub.status.idle": "2021-06-11T23:49:30.864509Z",
     "shell.execute_reply": "2021-06-11T23:49:30.863937Z",
     "shell.execute_reply.started": "2021-06-11T23:49:08.694405Z"
    },
    "papermill": {
     "duration": 0.040529,
     "end_time": "2021-06-11T23:49:30.864645",
     "exception": false,
     "start_time": "2021-06-11T23:49:30.824116",
     "status": "completed"
    },
    "tags": []
   },
   "outputs": [],
   "source": [
    "predictions = model.predict(X_test)"
   ]
  },
  {
   "cell_type": "code",
   "execution_count": 23,
   "id": "sudden-means",
   "metadata": {
    "execution": {
     "iopub.execute_input": "2021-06-11T23:49:30.906827Z",
     "iopub.status.busy": "2021-06-11T23:49:30.906259Z",
     "iopub.status.idle": "2021-06-11T23:49:30.912585Z",
     "shell.execute_reply": "2021-06-11T23:49:30.912101Z",
     "shell.execute_reply.started": "2021-06-11T23:49:08.827293Z"
    },
    "papermill": {
     "duration": 0.029735,
     "end_time": "2021-06-11T23:49:30.912714",
     "exception": false,
     "start_time": "2021-06-11T23:49:30.882979",
     "status": "completed"
    },
    "tags": []
   },
   "outputs": [],
   "source": [
    "output = pd.DataFrame({'PassengerId': test_data.PassengerId, 'Survived': predictions})\n",
    "output.to_csv('my_submission.csv', index=False)"
   ]
  },
  {
   "cell_type": "code",
   "execution_count": null,
   "id": "tutorial-clock",
   "metadata": {
    "papermill": {
     "duration": 0.017614,
     "end_time": "2021-06-11T23:49:30.948484",
     "exception": false,
     "start_time": "2021-06-11T23:49:30.930870",
     "status": "completed"
    },
    "tags": []
   },
   "outputs": [],
   "source": []
  },
  {
   "cell_type": "code",
   "execution_count": null,
   "id": "frozen-banks",
   "metadata": {
    "papermill": {
     "duration": 0.018415,
     "end_time": "2021-06-11T23:49:30.984764",
     "exception": false,
     "start_time": "2021-06-11T23:49:30.966349",
     "status": "completed"
    },
    "tags": []
   },
   "outputs": [],
   "source": []
  }
 ],
 "metadata": {
  "kernelspec": {
   "display_name": "Python 3",
   "language": "python",
   "name": "python3"
  },
  "language_info": {
   "codemirror_mode": {
    "name": "ipython",
    "version": 3
   },
   "file_extension": ".py",
   "mimetype": "text/x-python",
   "name": "python",
   "nbconvert_exporter": "python",
   "pygments_lexer": "ipython3",
   "version": "3.7.10"
  },
  "papermill": {
   "default_parameters": {},
   "duration": 10.843233,
   "end_time": "2021-06-11T23:49:31.712586",
   "environment_variables": {},
   "exception": null,
   "input_path": "__notebook__.ipynb",
   "output_path": "__notebook__.ipynb",
   "parameters": {},
   "start_time": "2021-06-11T23:49:20.869353",
   "version": "2.3.3"
  }
 },
 "nbformat": 4,
 "nbformat_minor": 5
}
